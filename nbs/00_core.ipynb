{
 "cells": [
  {
   "cell_type": "markdown",
   "metadata": {},
   "source": [
    "# core\n",
    "\n",
    "> Fill in a module description here"
   ]
  },
  {
   "cell_type": "code",
   "execution_count": null,
   "metadata": {},
   "outputs": [],
   "source": [
    "#| default_exp core"
   ]
  },
  {
   "cell_type": "code",
   "execution_count": null,
   "metadata": {},
   "outputs": [
    {
     "name": "stdout",
     "output_type": "stream",
     "text": [
      "The autoreload extension is already loaded. To reload it, use:\n",
      "  %reload_ext autoreload\n"
     ]
    }
   ],
   "source": [
    "#| hide\n",
    "from nbdev.showdoc import *\n",
    "from fastcore.test import *\n",
    "from fastcore.basics import patch\n",
    "from __future__ import annotations\n",
    "%load_ext autoreload\n",
    "%autoreload 2"
   ]
  },
  {
   "cell_type": "code",
   "execution_count": null,
   "metadata": {},
   "outputs": [],
   "source": [
    "#| export \n",
    "from __future__ import annotations\n",
    "from torch import nn\n",
    "import inspect "
   ]
  },
  {
   "cell_type": "code",
   "execution_count": null,
   "metadata": {},
   "outputs": [],
   "source": [
    "#| export\n",
    "def init_cnn(module # either nn.Linear or nn.Conv2d\n",
    "            ):\n",
    "    \"Initialize weights for neural net layer with xavier uniform initializer.\"\n",
    "\n",
    "    if type(module) == nn.Linear or type(module) == nn.Conv2d:\n",
    "        nn.init.xavier_uniform_(module.weight)"
   ]
  },
  {
   "cell_type": "code",
   "execution_count": null,
   "metadata": {},
   "outputs": [],
   "source": [
    "#| export\n",
    "class HyperParameters:\n",
    "    \"Saves all non-ignored arguments in a class' __init__ method as attributes.\"\n",
    "    \n",
    "    def save_hyperparameters(self, \n",
    "                             ignore = [] #  list of argument names (string) to ignore when calling `setattr`\n",
    "                            ):\n",
    "\n",
    "        # Get the next outer frame object (this frame’s caller) -\n",
    "        # `__init__` method.\n",
    "        frame = inspect.currentframe().f_back\n",
    "        # Get information about arguments passed into a particular frame.\n",
    "        _, _, _, local_vars = inspect.getargvalues(frame)\n",
    "\n",
    "        self.hparams = {\n",
    "            k: v for k, v in local_vars.items()\n",
    "            # ignore 'self', any variable in `ignore` list and\n",
    "            # that not starts with the underscore.\n",
    "            if k not in set(ignore+['self']) and not k.startswith('_')}\n",
    "        for k, v in self.hparams.items():\n",
    "            # set attributes of a class\n",
    "            setattr(self, k, v)"
   ]
  },
  {
   "cell_type": "code",
   "execution_count": null,
   "metadata": {},
   "outputs": [
    {
     "data": {
      "text/markdown": [
       "---\n",
       "\n",
       "[source](https://github.com/Iamalos/dlnb/blob/main/dlnb/core.py#L30){target=\"_blank\" style=\"float:right; font-size:smaller\"}\n",
       "\n",
       "### HyperParameters.save_hyperparameters\n",
       "\n",
       ">      HyperParameters.save_hyperparameters (ignore=[])\n",
       "\n",
       "|    | **Type** | **Default** | **Details** |\n",
       "| -- | -------- | ----------- | ----------- |\n",
       "| ignore | list | [] | list of argument names (string) to ignore when calling `setattr` |"
      ],
      "text/plain": [
       "---\n",
       "\n",
       "[source](https://github.com/Iamalos/dlnb/blob/main/dlnb/core.py#L30){target=\"_blank\" style=\"float:right; font-size:smaller\"}\n",
       "\n",
       "### HyperParameters.save_hyperparameters\n",
       "\n",
       ">      HyperParameters.save_hyperparameters (ignore=[])\n",
       "\n",
       "|    | **Type** | **Default** | **Details** |\n",
       "| -- | -------- | ----------- | ----------- |\n",
       "| ignore | list | [] | list of argument names (string) to ignore when calling `setattr` |"
      ]
     },
     "execution_count": null,
     "metadata": {},
     "output_type": "execute_result"
    }
   ],
   "source": [
    "show_doc(HyperParameters.save_hyperparameters)"
   ]
  },
  {
   "cell_type": "code",
   "execution_count": null,
   "metadata": {},
   "outputs": [],
   "source": [
    "class Person(HyperParameters):\n",
    "    def __init__(self, name, age, sex):\n",
    "        self.save_hyperparameters(ignore=['sex'])\n",
    "        \n",
    "jack = Person(\"Billy\", 25, 'male')"
   ]
  },
  {
   "cell_type": "markdown",
   "metadata": {},
   "source": [
    "Saves all arguments in a class `__init__` method as class attributes."
   ]
  },
  {
   "cell_type": "code",
   "execution_count": null,
   "metadata": {},
   "outputs": [],
   "source": [
    "test_eq(jack.name, \"Billy\")"
   ]
  },
  {
   "cell_type": "markdown",
   "metadata": {},
   "source": [
    "Ignores `self`, any variables in `ignore` list and that starts with\n",
    "the underscore."
   ]
  },
  {
   "cell_type": "code",
   "execution_count": null,
   "metadata": {},
   "outputs": [],
   "source": [
    "test_fail(lambda: jack.sex, contains=\"'Person' object has no attribute 'sex'\")"
   ]
  },
  {
   "cell_type": "markdown",
   "metadata": {},
   "source": [
    "## Module"
   ]
  },
  {
   "cell_type": "code",
   "execution_count": null,
   "metadata": {},
   "outputs": [],
   "source": [
    "#| export\n",
    "class Module(nn.Module, HyperParameters):\n",
    "    \"The base class for all the models in the Diving into DL course\""
   ]
  },
  {
   "cell_type": "code",
   "execution_count": null,
   "metadata": {},
   "outputs": [],
   "source": [
    "@patch\n",
    "def __init__(\n",
    "    self: Module,\n",
    "    plot_train_per_epoch: int = 2, # number of training plot updates per one epoch.\n",
    "    plot_valid_per_epoch: int = 1 # number of validation plot updates per one epoch.\n",
    "):\n",
    "    super().__init__()\n",
    "    self.save_hyperparameters()\n",
    "    self.board = ProgressBoard() # ProgressBoard for plotting data."
   ]
  },
  {
   "cell_type": "code",
   "execution_count": null,
   "metadata": {},
   "outputs": [],
   "source": [
    "@patch\n",
    "def loss(self: Module, \n",
    "         y_hat: Tensor, # predicted y values\n",
    "         y: Tensor): # real y values\n",
    "    \"Calculate loss between fitted values and observed values.\"\n",
    "    raise NotImplementedError"
   ]
  },
  {
   "cell_type": "code",
   "execution_count": null,
   "metadata": {},
   "outputs": [],
   "source": [
    "@patch\n",
    "def forward(self: Module, \n",
    "            X: Tensor # input tensor\n",
    "           ):\n",
    "    \"Make a forward pass on the data.\"\n",
    "    # make sure class has `net` attribute\n",
    "    assert hasattr(self, 'net'), 'Neural network is not defined.'\n",
    "    return self.net(X)    "
   ]
  },
  {
   "cell_type": "code",
   "execution_count": null,
   "metadata": {},
   "outputs": [],
   "source": [
    "#| hide\n",
    "import nbdev; nbdev.nbdev_export()"
   ]
  },
  {
   "cell_type": "code",
   "execution_count": null,
   "metadata": {},
   "outputs": [],
   "source": []
  }
 ],
 "metadata": {
  "kernelspec": {
   "display_name": "Python 3 (ipykernel)",
   "language": "python",
   "name": "python3"
  }
 },
 "nbformat": 4,
 "nbformat_minor": 4
}
